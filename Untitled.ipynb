{
 "cells": [
  {
   "cell_type": "code",
   "execution_count": 1,
   "id": "ea78eb91-d182-41f6-beb7-9169b42e2bae",
   "metadata": {},
   "outputs": [],
   "source": [
    "import sqlite3 "
   ]
  },
  {
   "cell_type": "code",
   "execution_count": 2,
   "id": "f8b730bf-d801-438a-ae0e-4b5bc3ba6341",
   "metadata": {},
   "outputs": [],
   "source": [
    "cnn = sqlite3.connect(\"db.sqlite3\")"
   ]
  },
  {
   "cell_type": "code",
   "execution_count": 3,
   "id": "f3b51b56-9329-476b-b539-8d0e93f14d88",
   "metadata": {},
   "outputs": [],
   "source": [
    "cursor = cnn.cursor()"
   ]
  },
  {
   "cell_type": "code",
   "execution_count": 12,
   "id": "b1076fc9-9f35-4f47-97f7-471641b4103e",
   "metadata": {},
   "outputs": [],
   "source": [
    "c = cursor.execute(\"SELECT * FROM sqlite_master where type= 'table'\")"
   ]
  },
  {
   "cell_type": "code",
   "execution_count": 13,
   "id": "387b14d4-3224-4bf1-bdce-36b3a8c9a27b",
   "metadata": {},
   "outputs": [
    {
     "data": {
      "text/plain": [
       "[('table',\n",
       "  'django_migrations',\n",
       "  'django_migrations',\n",
       "  2,\n",
       "  'CREATE TABLE \"django_migrations\" (\"id\" integer NOT NULL PRIMARY KEY AUTOINCREMENT, \"app\" varchar(255) NOT NULL, \"name\" varchar(255) NOT NULL, \"applied\" datetime NOT NULL)'),\n",
       " ('table',\n",
       "  'sqlite_sequence',\n",
       "  'sqlite_sequence',\n",
       "  3,\n",
       "  'CREATE TABLE sqlite_sequence(name,seq)'),\n",
       " ('table',\n",
       "  'auth_group_permissions',\n",
       "  'auth_group_permissions',\n",
       "  9,\n",
       "  'CREATE TABLE \"auth_group_permissions\" (\"id\" integer NOT NULL PRIMARY KEY AUTOINCREMENT, \"group_id\" integer NOT NULL REFERENCES \"auth_group\" (\"id\") DEFERRABLE INITIALLY DEFERRED, \"permission_id\" integer NOT NULL REFERENCES \"auth_permission\" (\"id\") DEFERRABLE INITIALLY DEFERRED)'),\n",
       " ('table',\n",
       "  'auth_user_groups',\n",
       "  'auth_user_groups',\n",
       "  12,\n",
       "  'CREATE TABLE \"auth_user_groups\" (\"id\" integer NOT NULL PRIMARY KEY AUTOINCREMENT, \"user_id\" integer NOT NULL REFERENCES \"auth_user\" (\"id\") DEFERRABLE INITIALLY DEFERRED, \"group_id\" integer NOT NULL REFERENCES \"auth_group\" (\"id\") DEFERRABLE INITIALLY DEFERRED)'),\n",
       " ('table',\n",
       "  'auth_user_user_permissions',\n",
       "  'auth_user_user_permissions',\n",
       "  13,\n",
       "  'CREATE TABLE \"auth_user_user_permissions\" (\"id\" integer NOT NULL PRIMARY KEY AUTOINCREMENT, \"user_id\" integer NOT NULL REFERENCES \"auth_user\" (\"id\") DEFERRABLE INITIALLY DEFERRED, \"permission_id\" integer NOT NULL REFERENCES \"auth_permission\" (\"id\") DEFERRABLE INITIALLY DEFERRED)'),\n",
       " ('table',\n",
       "  'django_admin_log',\n",
       "  'django_admin_log',\n",
       "  30,\n",
       "  'CREATE TABLE \"django_admin_log\" (\"id\" integer NOT NULL PRIMARY KEY AUTOINCREMENT, \"object_id\" text NULL, \"object_repr\" varchar(200) NOT NULL, \"action_flag\" smallint unsigned NOT NULL CHECK (\"action_flag\" >= 0), \"change_message\" text NOT NULL, \"content_type_id\" integer NULL REFERENCES \"django_content_type\" (\"id\") DEFERRABLE INITIALLY DEFERRED, \"user_id\" integer NOT NULL REFERENCES \"auth_user\" (\"id\") DEFERRABLE INITIALLY DEFERRED, \"action_time\" datetime NOT NULL)'),\n",
       " ('table',\n",
       "  'django_content_type',\n",
       "  'django_content_type',\n",
       "  29,\n",
       "  'CREATE TABLE \"django_content_type\" (\"id\" integer NOT NULL PRIMARY KEY AUTOINCREMENT, \"app_label\" varchar(100) NOT NULL, \"model\" varchar(100) NOT NULL)'),\n",
       " ('table',\n",
       "  'auth_permission',\n",
       "  'auth_permission',\n",
       "  5,\n",
       "  'CREATE TABLE \"auth_permission\" (\"id\" integer NOT NULL PRIMARY KEY AUTOINCREMENT, \"content_type_id\" integer NOT NULL REFERENCES \"django_content_type\" (\"id\") DEFERRABLE INITIALLY DEFERRED, \"codename\" varchar(100) NOT NULL, \"name\" varchar(255) NOT NULL)'),\n",
       " ('table',\n",
       "  'auth_group',\n",
       "  'auth_group',\n",
       "  15,\n",
       "  'CREATE TABLE \"auth_group\" (\"id\" integer NOT NULL PRIMARY KEY AUTOINCREMENT, \"name\" varchar(150) NOT NULL UNIQUE)'),\n",
       " ('table',\n",
       "  'auth_user',\n",
       "  'auth_user',\n",
       "  7,\n",
       "  'CREATE TABLE \"auth_user\" (\"id\" integer NOT NULL PRIMARY KEY AUTOINCREMENT, \"password\" varchar(128) NOT NULL, \"last_login\" datetime NULL, \"is_superuser\" bool NOT NULL, \"username\" varchar(150) NOT NULL UNIQUE, \"last_name\" varchar(150) NOT NULL, \"email\" varchar(254) NOT NULL, \"is_staff\" bool NOT NULL, \"is_active\" bool NOT NULL, \"date_joined\" datetime NOT NULL, \"first_name\" varchar(150) NOT NULL)'),\n",
       " ('table',\n",
       "  'django_session',\n",
       "  'django_session',\n",
       "  10,\n",
       "  'CREATE TABLE \"django_session\" (\"session_key\" varchar(40) NOT NULL PRIMARY KEY, \"session_data\" text NOT NULL, \"expire_date\" datetime NOT NULL)'),\n",
       " ('table',\n",
       "  'shop_technology',\n",
       "  'shop_technology',\n",
       "  33,\n",
       "  'CREATE TABLE \"shop_technology\" (\"id\" integer NOT NULL PRIMARY KEY AUTOINCREMENT, \"left_heading\" text NOT NULL, \"left_description\" text NOT NULL, \"left_logo\" varchar(100) NOT NULL, \"right_heading\" text NOT NULL, \"right_description\" text NOT NULL, \"right_logo\" varchar(100) NOT NULL)'),\n",
       " ('table',\n",
       "  'shop_category',\n",
       "  'shop_category',\n",
       "  34,\n",
       "  'CREATE TABLE \"shop_category\" (\"id\" integer NOT NULL PRIMARY KEY AUTOINCREMENT, \"name\" text NOT NULL)'),\n",
       " ('table',\n",
       "  'shop_collection',\n",
       "  'shop_collection',\n",
       "  40,\n",
       "  'CREATE TABLE \"shop_collection\" (\"id\" integer NOT NULL PRIMARY KEY AUTOINCREMENT, \"description1\" text NULL, \"description2\" text NULL, \"description3\" text NULL, \"description4\" text NULL, \"description5\" text NULL, \"category_id\" bigint NOT NULL REFERENCES \"shop_category\" (\"id\") DEFERRABLE INITIALLY DEFERRED, \"name\" text NOT NULL, \"description6\" text NULL)'),\n",
       " ('table',\n",
       "  'shop_product',\n",
       "  'shop_product',\n",
       "  37,\n",
       "  'CREATE TABLE \"shop_product\" (\"id\" integer NOT NULL PRIMARY KEY AUTOINCREMENT, \"attributesName1\" varchar(80) NULL, \"attributes1\" text NULL, \"attributesName2\" varchar(80) NULL, \"attributes2\" text NULL, \"attributesName3\" varchar(80) NULL, \"attributes3\" text NULL, \"attributesName4\" varchar(80) NULL, \"attributes4\" text NULL, \"attributesName5\" varchar(80) NULL, \"attributes5\" text NULL, \"attributesName6\" varchar(80) NULL, \"attributes6\" text NULL, \"attributesName7\" varchar(80) NULL, \"attributes7\" text NULL, \"attributes8\" text NULL, \"collection_id\" bigint NOT NULL REFERENCES \"shop_collection\" (\"id\") DEFERRABLE INITIALLY DEFERRED, \"name\" text NOT NULL, \"attributesName8\" varchar(80) NULL)')]"
      ]
     },
     "execution_count": 13,
     "metadata": {},
     "output_type": "execute_result"
    }
   ],
   "source": [
    "cursor.execute(\"INSERT \")\n",
    "cursorObj.execute('INSERT INTO shop_Product(id, name, salary, department, position, hireDate) VALUES(?, ?, ?, ?, ?, ?)', entities)   "
   ]
  },
  {
   "cell_type": "code",
   "execution_count": 15,
   "id": "48388c9d-c427-478c-a245-836b354eda2d",
   "metadata": {},
   "outputs": [
    {
     "data": {
      "text/plain": [
       "[(1,\n",
       "  'Application',\n",
       "  'Granite Cutting Blade 350mm Diameter',\n",
       "  'Product Name',\n",
       "  'DSB350',\n",
       "  'Part Number',\n",
       "  '90 350 1 0',\n",
       "  'Diameter',\n",
       "  '350 mm – 14″',\n",
       "  None,\n",
       "  '',\n",
       "  None,\n",
       "  '',\n",
       "  None,\n",
       "  '',\n",
       "  '',\n",
       "  1,\n",
       "  'Granite Cutting Blade 350mm Diameter',\n",
       "  None),\n",
       " (2,\n",
       "  'Application',\n",
       "  'Granite Cutting Blade 350mm Diameter',\n",
       "  'Product Name',\n",
       "  'DSB400',\n",
       "  'Part Number',\n",
       "  '90 400 1 0',\n",
       "  'Diameter',\n",
       "  '400 mm – 16″',\n",
       "  None,\n",
       "  '',\n",
       "  None,\n",
       "  '',\n",
       "  None,\n",
       "  '',\n",
       "  '',\n",
       "  1,\n",
       "  'Granite Cutting Blade 350mm Diameter',\n",
       "  None),\n",
       " (3,\n",
       "  'Description',\n",
       "  'Multwire Beads R14 (6.3mm)',\n",
       "  'Product Name',\n",
       "  'R14',\n",
       "  'Part Number',\n",
       "  '10 907 1 0',\n",
       "  'Diameter',\n",
       "  '6.3 mm',\n",
       "  'No. of Beads / m',\n",
       "  '-',\n",
       "  None,\n",
       "  '',\n",
       "  None,\n",
       "  '',\n",
       "  '',\n",
       "  2,\n",
       "  'Multwire Beads R14 (6.3mm)',\n",
       "  None),\n",
       " (4,\n",
       "  'Description',\n",
       "  'Multwire Beads R12 (7.3mm)',\n",
       "  'Product Name',\n",
       "  'R12',\n",
       "  'Part Number',\n",
       "  '10 904 1 0',\n",
       "  'Diameter',\n",
       "  '7.3 mm',\n",
       "  'No. of Beads / m',\n",
       "  '-',\n",
       "  None,\n",
       "  '',\n",
       "  None,\n",
       "  '',\n",
       "  '',\n",
       "  2,\n",
       "  'Multwire Beads R12 (7.3mm)',\n",
       "  None)]"
      ]
     },
     "execution_count": 15,
     "metadata": {},
     "output_type": "execute_result"
    }
   ],
   "source": [
    "cursor.execute(\"SELECT * FROM shop_product\").fetchall()"
   ]
  },
  {
   "cell_type": "code",
   "execution_count": null,
   "id": "47222400-bbfa-4c4d-8036-07c58b8e96e6",
   "metadata": {},
   "outputs": [],
   "source": []
  }
 ],
 "metadata": {
  "kernelspec": {
   "display_name": "Python 3 (ipykernel)",
   "language": "python",
   "name": "python3"
  },
  "language_info": {
   "codemirror_mode": {
    "name": "ipython",
    "version": 3
   },
   "file_extension": ".py",
   "mimetype": "text/x-python",
   "name": "python",
   "nbconvert_exporter": "python",
   "pygments_lexer": "ipython3",
   "version": "3.10.6"
  }
 },
 "nbformat": 4,
 "nbformat_minor": 5
}
